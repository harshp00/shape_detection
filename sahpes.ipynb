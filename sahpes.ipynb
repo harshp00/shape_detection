{
  "cells": [
    {
      "metadata": {
        "trusted": true,
        "scrolled": true
      },
      "cell_type": "code",
      "source": "!pip install opencv-python",
      "execution_count": 10,
      "outputs": [
        {
          "output_type": "stream",
          "text": "Collecting opencv-python\n\u001b[?25l  Downloading https://files.pythonhosted.org/packages/68/c5/09a1b82f940805c2cee30c3c42786651edcfd0710a0283eb09c6bc959340/opencv_python-4.2.0.32-cp36-cp36m-manylinux1_x86_64.whl (28.2MB)\n\u001b[K     |████████████████████████████████| 28.2MB 31kB/s  eta 0:00:01     |████████████████████████▍       | 21.5MB 8.9MB/s eta 0:00:01     |█████████████████████████████▉  | 26.3MB 9.0MB/s eta 0:00:01\n\u001b[?25hRequirement already satisfied: numpy>=1.11.3 in /home/nbuser/anaconda3_501/lib/python3.6/site-packages (from opencv-python) (1.16.2)\nInstalling collected packages: opencv-python\nSuccessfully installed opencv-python-4.2.0.32\n\u001b[33mWARNING: You are using pip version 19.3.1; however, version 20.0.2 is available.\nYou should consider upgrading via the 'pip install --upgrade pip' command.\u001b[0m\n",
          "name": "stdout"
        }
      ]
    },
    {
      "metadata": {
        "trusted": true
      },
      "cell_type": "code",
      "source": "!pip install --upgrade pip",
      "execution_count": 1,
      "outputs": [
        {
          "output_type": "stream",
          "text": "Collecting pip\n\u001b[?25l  Downloading https://files.pythonhosted.org/packages/54/0c/d01aa759fdc501a58f431eb594a17495f15b88da142ce14b5845662c13f3/pip-20.0.2-py2.py3-none-any.whl (1.4MB)\n\u001b[K     |████████████████████████████████| 1.4MB 3.4MB/s eta 0:00:01\n\u001b[?25hInstalling collected packages: pip\n  Found existing installation: pip 19.3.1\n    Uninstalling pip-19.3.1:\n      Successfully uninstalled pip-19.3.1\nSuccessfully installed pip-20.0.2\n",
          "name": "stdout"
        }
      ]
    },
    {
      "metadata": {
        "trusted": true
      },
      "cell_type": "code",
      "source": "import cv2\n\nimg=cv2.imread('lena.jpg',0)\n\nprint(img)\ncv2.imshow('image', img)\ncv2.waitKey(5000)\ncv2.destroyAllWindows()\n",
      "execution_count": null,
      "outputs": []
    },
    {
      "metadata": {
        "trusted": true
      },
      "cell_type": "code",
      "source": "",
      "execution_count": null,
      "outputs": []
    }
  ],
  "metadata": {
    "kernelspec": {
      "name": "python36",
      "display_name": "Python 3.6",
      "language": "python"
    },
    "language_info": {
      "mimetype": "text/x-python",
      "nbconvert_exporter": "python",
      "name": "python",
      "pygments_lexer": "ipython3",
      "version": "3.6.6",
      "file_extension": ".py",
      "codemirror_mode": {
        "version": 3,
        "name": "ipython"
      }
    }
  },
  "nbformat": 4,
  "nbformat_minor": 2
}